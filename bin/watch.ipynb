{
 "cells": [
  {
   "cell_type": "code",
   "execution_count": null,
   "metadata": {},
   "outputs": [],
   "source": [
    "import numpy as np\n",
    "import matplotlib.pyplot as plt\n",
    "\n",
    "def read_data():\n",
    "    filename = 'final.dat'\n",
    "    f   = open(filename)\n",
    "    f.readline()\n",
    "    f.readline()\n",
    "    f.readline()\n",
    "    x   = np.zeros((mx-1, my-1))\n",
    "    y   = np.zeros((mx-1, my-1))\n",
    "    rho = np.zeros((mx-1, my-1))\n",
    "    u   = np.zeros((mx-1, my-1))\n",
    "    v   = np.zeros((mx-1, my-1))\n",
    "    p  = np.zeros((mx-1, my-1))\n",
    "    T   = np.zeros((mx-1, my-1))\n",
    "    i = 0; j = 0\n",
    "    for line in f:\n",
    "        x[i,j]   = eval(line.split()[0])\n",
    "        y[i,j]   = eval(line.split()[1])\n",
    "        rho[i,j] = eval(line.split()[2])\n",
    "        u[i,j]   = eval(line.split()[3])\n",
    "        v[i,j]   = eval(line.split()[4])\n",
    "        p[i,j]  = eval(line.split()[5])\n",
    "        T[i,j]   = eval(line.split()[6])\n",
    "\n",
    "        if (i == mx-2):\n",
    "            j += 1; i = 0\n",
    "        else:\n",
    "            i += 1\n",
    "        if (j == my-1): break\n",
    "\n",
    "    f.close()\n",
    "    return (x,y,rho,u,v,p, T)\n",
    "    \n",
    "# grid points\n",
    "mx = 80; my = 240 \n",
    "\n",
    "gamma = 1.4\n",
    "# read results\n",
    "(x,y,rho,u,v,p, T) = read_data()\n",
    "\n",
    "fig = plt.figure()\n",
    "ax  = fig.add_subplot(111)\n",
    "\n",
    "contour = ax.contourf(x,y,v, cmap=plt.cm.rainbow)\n",
    "plt.colorbar(contour, orientation='vertical')\n",
    "plt.axis(\"equal\")\n",
    "plt.savefig(\"result.png\", dpi=600)\n",
    "plt.show()"
   ]
  },
  {
   "cell_type": "code",
   "execution_count": null,
   "metadata": {},
   "outputs": [],
   "source": [
    "def mu_t(T):\n",
    "    mu_0 = 1.716e-5\n",
    "    T_ref = 273.15\n",
    "    T_0 = 111;\n",
    "    mu = mu_0*(T/T_ref)**1.5*(T_ref + T_0)/(T + T_0);\n",
    "    return mu;\n",
    "\n",
    "def k_t(T):\n",
    "    Pr = 0.77\n",
    "    cp = 1.4*287/0.4\n",
    "    k = mu_t(T) * cp / Pr;\n",
    "    return k;\n",
    "\n",
    "q = T[0:79, 80]\n",
    "q = q[::-1]\n",
    "plt.plot(q, '.-')\n",
    "plt.xlabel(r\"$h$\")\n",
    "plt.ylabel(r\"$T/K$\")\n",
    "plt.savefig(\"Tempreture.png\", dpi=600)\n",
    "k_t(1031.44)*(1206.04-1031.44)/(0.00245)"
   ]
  }
 ],
 "metadata": {
  "interpreter": {
   "hash": "916dbcbb3f70747c44a77c7bcd40155683ae19c65e1c03b4aa3499c5328201f1"
  },
  "kernelspec": {
   "display_name": "Python 3.8.10 64-bit",
   "language": "python",
   "name": "python3"
  },
  "language_info": {
   "codemirror_mode": {
    "name": "ipython",
    "version": 3
   },
   "file_extension": ".py",
   "mimetype": "text/x-python",
   "name": "python",
   "nbconvert_exporter": "python",
   "pygments_lexer": "ipython3",
   "version": "3.8.10"
  },
  "orig_nbformat": 4
 },
 "nbformat": 4,
 "nbformat_minor": 2
}
